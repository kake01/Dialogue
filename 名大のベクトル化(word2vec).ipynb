{
  "nbformat": 4,
  "nbformat_minor": 0,
  "metadata": {
    "colab": {
      "name": "名大のベクトル化(word2vec)",
      "provenance": [],
      "collapsed_sections": [],
      "toc_visible": true,
      "machine_shape": "hm",
      "include_colab_link": true
    },
    "kernelspec": {
      "name": "python3",
      "display_name": "Python 3"
    },
    "language_info": {
      "codemirror_mode": {
        "name": "ipython",
        "version": 3
      },
      "file_extension": ".py",
      "mimetype": "text/x-python",
      "name": "python",
      "nbconvert_exporter": "python",
      "pygments_lexer": "ipython3",
      "version": "3.7.4"
    }
  },
  "cells": [
    {
      "cell_type": "markdown",
      "metadata": {
        "id": "view-in-github",
        "colab_type": "text"
      },
      "source": [
        "<a href=\"https://colab.research.google.com/github/kake01/Dialogue/blob/Vectorization/%E5%90%8D%E5%A4%A7%E3%81%AE%E3%83%99%E3%82%AF%E3%83%88%E3%83%AB%E5%8C%96(word2vec).ipynb\" target=\"_parent\"><img src=\"https://colab.research.google.com/assets/colab-badge.svg\" alt=\"Open In Colab\"/></a>"
      ]
    },
    {
      "cell_type": "markdown",
      "metadata": {
        "colab_type": "text",
        "id": "J0Qjg6vuaHNt"
      },
      "source": [
        "#名古屋大コーパスの前処理,ベクトル化"
      ]
    },
    {
      "cell_type": "markdown",
      "metadata": {
        "id": "Aokpp2mfol_C",
        "colab_type": "text"
      },
      "source": [
        "## 環境構築"
      ]
    },
    {
      "cell_type": "code",
      "metadata": {
        "id": "Mp_9rFvwpZbs",
        "colab_type": "code",
        "outputId": "18ec7392-cac0-47d4-9085-b3eea00b8ecf",
        "colab": {
          "base_uri": "https://localhost:8080/",
          "height": 34
        }
      },
      "source": [
        "pip install janome"
      ],
      "execution_count": 0,
      "outputs": [
        {
          "output_type": "stream",
          "text": [
            "Requirement already satisfied: janome in /usr/local/lib/python3.6/dist-packages (0.3.10)\n"
          ],
          "name": "stdout"
        }
      ]
    },
    {
      "cell_type": "code",
      "metadata": {
        "colab_type": "code",
        "id": "tnxXKDjq3jEL",
        "colab": {}
      },
      "source": [
        "import matplotlib.pyplot as plt\n",
        "import matplotlib.ticker as ticker\n",
        "import re\n",
        "import numpy as np\n",
        "import pickle\n",
        "from gensim.models import word2vec\n",
        "from janome.tokenizer import Tokenizer"
      ],
      "execution_count": 0,
      "outputs": []
    },
    {
      "cell_type": "markdown",
      "metadata": {
        "id": "0NBujIXDFeLp",
        "colab_type": "text"
      },
      "source": [
        "# 文章ごとのリストを作成"
      ]
    },
    {
      "cell_type": "code",
      "metadata": {
        "id": "ZOIiKK3KBFkt",
        "colab_type": "code",
        "colab": {}
      },
      "source": [
        "# ファイルの読み込み\n",
        "with open(\"corpus.txt\", mode=\"r\", encoding=\"utf-8\") as f:\n",
        "  text = f.read()\n",
        "\n",
        "seperator = \"。\"  # 。をセパレータに指定\n",
        "sentence_list = text.split(seperator)  # セパレーターを使って文章をリストに分割する\n",
        "sentence_list.pop() # 最後の要素は空の文字列になるので、削除\n",
        "sentence_list = [x+seperator for x in sentence_list]  # 文章の最後に。を追加"
      ],
      "execution_count": 0,
      "outputs": []
    },
    {
      "cell_type": "code",
      "metadata": {
        "id": "n0UxlMcEKUSz",
        "colab_type": "code",
        "outputId": "61076b49-57cd-4e48-9e74-4051ba815c5c",
        "colab": {
          "base_uri": "https://localhost:8080/",
          "height": 34
        }
      },
      "source": [
        "print(sentence_list[0])"
      ],
      "execution_count": 0,
      "outputs": [
        {
          "output_type": "stream",
          "text": [
            "の町というのはちいちゃくって、城壁がこう町全体をぐるっと回ってて、それが城壁の上を歩いても１時間ぐらいですよね。\n"
          ],
          "name": "stdout"
        }
      ]
    },
    {
      "cell_type": "markdown",
      "metadata": {
        "id": "ieKpTQnjoPhs",
        "colab_type": "text"
      },
      "source": [
        "#分かち書きリスト"
      ]
    },
    {
      "cell_type": "code",
      "metadata": {
        "id": "yaiPC_7TLdhP",
        "colab_type": "code",
        "colab": {}
      },
      "source": [
        "t = Tokenizer()\n",
        "words = []\n",
        "for sentence in sentence_list:\n",
        "    words.append(t.tokenize(sentence, wakati=True))  # 文章ごとに単語に分割し、リストに格納"
      ],
      "execution_count": 0,
      "outputs": []
    },
    {
      "cell_type": "code",
      "metadata": {
        "id": "StjaM-8y1MGr",
        "colab_type": "code",
        "outputId": "bffd03d4-c702-49da-bd1a-85be4d287e0c",
        "colab": {
          "base_uri": "https://localhost:8080/",
          "height": 72
        }
      },
      "source": [
        "print(len(words))\n",
        "print(words[0])"
      ],
      "execution_count": 0,
      "outputs": [
        {
          "output_type": "stream",
          "text": [
            "115173\n",
            "['の', '町', 'という', 'の', 'は', 'ちい', 'ちゃ', 'くっ', 'て', '、', '城壁', 'が', 'こう', '町', '全体', 'を', 'ぐるっと', '回っ', 'て', 'て', '、', 'それ', 'が', '城壁', 'の', '上', 'を', '歩い', 'て', 'も', '１', '時間', 'ぐらい', 'です', 'よ', 'ね', '。']\n"
          ],
          "name": "stdout"
        }
      ]
    },
    {
      "cell_type": "code",
      "metadata": {
        "id": "0x1cAJJc_aI2",
        "colab_type": "code",
        "colab": {}
      },
      "source": [
        "# size : 中間層のニューロン数 デフォルト100\n",
        "# min_count : この値以下の出現回数の単語を無視\n",
        "# window : 対象単語を中心とした前後の単語数\n",
        "# iter : epochs数\n",
        "# sg : skip-gramを使うかどうか 0:CBOW 1:skip-gram\n",
        "model = word2vec.Word2Vec(words, size=250, min_count=5, window=5, iter=20, sg = 0)"
      ],
      "execution_count": 0,
      "outputs": []
    },
    {
      "cell_type": "code",
      "metadata": {
        "id": "j3XnNSbz_rep",
        "colab_type": "code",
        "colab": {}
      },
      "source": [
        "print(model.wv.vectors.shape)  # 分散表現の形状\n",
        "print(model.wv.vectors)  # 分散表現\n",
        "print(len(model.wv.index2word))  # 語彙の数\n",
        "# (7452, 250)"
      ],
      "execution_count": 0,
      "outputs": []
    },
    {
      "cell_type": "code",
      "metadata": {
        "id": "jhQZ4FE9Y6m5",
        "colab_type": "code",
        "colab": {}
      },
      "source": [
        "print(model.wv.vectors[0])"
      ],
      "execution_count": 0,
      "outputs": []
    },
    {
      "cell_type": "markdown",
      "metadata": {
        "id": "_Iu70unrg2W1",
        "colab_type": "text"
      },
      "source": [
        "#モデル,行列の保存"
      ]
    },
    {
      "cell_type": "code",
      "metadata": {
        "id": "7PRZdSiYdFLQ",
        "colab_type": "code",
        "colab": {}
      },
      "source": [
        "# # モデルを保存\n",
        "model.save(\"word2vec.model\")\n",
        "# 行列を保存\n",
        "with open('word2vec_vector.pickle', mode='wb') as f:  # pickleに保存\n",
        "    pickle.dump(model.wv.vectors, f)"
      ],
      "execution_count": 0,
      "outputs": []
    },
    {
      "cell_type": "markdown",
      "metadata": {
        "id": "p9DRMVQrcUVq",
        "colab_type": "text"
      },
      "source": [
        "#モデル,行列を読み込む"
      ]
    },
    {
      "cell_type": "code",
      "metadata": {
        "id": "n2BananKcVSg",
        "colab_type": "code",
        "colab": {}
      },
      "source": [
        "# モデルを読み込む\n",
        "word2vec_model = word2vec.Word2Vec.load(\"word2vec.model\")\n",
        "with open('word2vec_vector.pickle', 'rb') as web:\n",
        "  word2vec_vector = pickle.load(web)\n",
        "# print (word2vec_vector[0])"
      ],
      "execution_count": 0,
      "outputs": []
    },
    {
      "cell_type": "markdown",
      "metadata": {
        "id": "7QNtu3pLi2LO",
        "colab_type": "text"
      },
      "source": [
        "##encoder,decoderへの入力,decoderの正解を作成"
      ]
    },
    {
      "cell_type": "code",
      "metadata": {
        "id": "WXjqw9B0i1BB",
        "colab_type": "code",
        "colab": {}
      },
      "source": [
        "seperator = \"。\"\n",
        "sentence_list = text.split(seperator) \n",
        "sentence_list.pop() \n",
        "sentence_list = [x+seperator for x in sentence_list]\n",
        "\n",
        "# センテンスで長すぎる文章の削除\n",
        "max_sentence_length = 128\n",
        "sentence_list = [sentence for sentence in sentence_list if len(sentence) <= max_sentence_length]  # 長すぎる文章のカット\n",
        "\n",
        "\n",
        "# n_char = len(chars_list)  # 文字の種類の数   <= model.wv.index2word\n",
        "n_char = len(model.wv.index2word)  # 文字の種類の数\n",
        "n_sample = len(sentence_list) - 1  # サンプル数\n",
        "\n",
        "x_sentences = []  # 入力の文章\n",
        "t_sentences = []  # 正解の文章\n",
        "for i in range(n_sample):\n",
        "  x_sentences.append(sentence_list[i])\n",
        "  t_sentences.append(\"\\t\" + sentence_list[i+1] + \"\\n\")  # 正解は先頭にタブ、末尾に改行を加える\n",
        "max_length_x = max_sentence_length  # 入力文章の最大長さ\n",
        "max_length_t = max_sentence_length + 2  # 正解文章の最大長さ\n",
        "\n",
        "# x_encoder = np.zeros((n_sample, max_length_x, n_char), dtype=np.bool)  # encoderへの入力\n",
        "# x_decoder = np.zeros((n_sample, max_length_t, n_char), dtype=np.bool)  # decoderへの入力\n",
        "# t_decoder = np.zeros((n_sample, max_length_t, n_char), dtype=np.bool)  # decoderの正解\n",
        "\n",
        "# for i in range(n_sample):\n",
        "#     x_sentence = x_sentences[i]\n",
        "#     t_sentence = t_sentences[i]\n",
        "#     for j, char in enumerate(x_sentence):\n",
        "#         x_encoder[i, j, char_indices[char]] = 1  # encoderへの入力をone-hot表現で表す\n",
        "#     for j, char in enumerate(t_sentence):\n",
        "#         x_decoder[i, j, char_indices[char]] = 1  # decoderへの入力をone-hot表現で表す\n",
        "#         if j > 0:  # 正解は入力より1つ前の時刻のものにする\n",
        "#             t_decoder[i, j-1, char_indices[char]] = 1"
      ],
      "execution_count": 0,
      "outputs": []
    },
    {
      "cell_type": "code",
      "metadata": {
        "id": "szxCnt5dZB2q",
        "colab_type": "code",
        "outputId": "a32631d3-f092-447a-f3b8-564f842bd758",
        "colab": {
          "base_uri": "https://localhost:8080/",
          "height": 34
        }
      },
      "source": [
        "print(x_encoder.shape)\n",
        "# (114553, 128, 272)\n",
        "# (行数, 入力文章の最大長さ, 文字の種類の数)"
      ],
      "execution_count": 0,
      "outputs": [
        {
          "output_type": "stream",
          "text": [
            "(114553, 128, 272)\n"
          ],
          "name": "stdout"
        }
      ]
    },
    {
      "cell_type": "markdown",
      "metadata": {
        "id": "a8zEHClOggou",
        "colab_type": "text"
      },
      "source": [
        "##類似語のテスト"
      ]
    },
    {
      "cell_type": "code",
      "metadata": {
        "id": "AiQQ-c-5_5fs",
        "colab_type": "code",
        "outputId": "780c4a60-4668-491a-97ff-dc0df238c19c",
        "colab": {
          "base_uri": "https://localhost:8080/",
          "height": 90
        }
      },
      "source": [
        "print(temp_model.wv.most_similar(\"怖い\"))  # 最も似ている単語"
      ],
      "execution_count": 0,
      "outputs": [
        {
          "output_type": "stream",
          "text": [
            "[('つらい', 0.6198047399520874), ('セクシー', 0.609634280204773), ('うまい', 0.6051341891288757), ('かわいそう', 0.5984027981758118), ('きつい', 0.5945082902908325), ('かっこいい', 0.5899600982666016), ('やばい', 0.5897552371025085), ('おもしろい', 0.5887147784233093), ('厳しい', 0.5871392488479614), ('さみしい', 0.5859197378158569)]\n"
          ],
          "name": "stdout"
        },
        {
          "output_type": "stream",
          "text": [
            "/usr/local/lib/python3.6/dist-packages/gensim/matutils.py:737: FutureWarning: Conversion of the second argument of issubdtype from `int` to `np.signedinteger` is deprecated. In future, it will be treated as `np.int64 == np.dtype(int).type`.\n",
            "  if np.issubdtype(vec.dtype, np.int):\n"
          ],
          "name": "stderr"
        }
      ]
    }
  ]
}