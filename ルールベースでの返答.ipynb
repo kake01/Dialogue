{
  "nbformat": 4,
  "nbformat_minor": 0,
  "metadata": {
    "colab": {
      "name": "ルールベースでの返答",
      "provenance": [],
      "collapsed_sections": [
        "avZvE1YHtjLV"
      ],
      "authorship_tag": "ABX9TyOHWSdqLUjlBbOcYLKT7MWe",
      "include_colab_link": true
    },
    "kernelspec": {
      "name": "python3",
      "display_name": "Python 3"
    }
  },
  "cells": [
    {
      "cell_type": "markdown",
      "metadata": {
        "id": "view-in-github",
        "colab_type": "text"
      },
      "source": [
        "<a href=\"https://colab.research.google.com/github/kake01/Dialogue/blob/master/%E3%83%AB%E3%83%BC%E3%83%AB%E3%83%99%E3%83%BC%E3%82%B9%E3%81%A7%E3%81%AE%E8%BF%94%E7%AD%94.ipynb\" target=\"_parent\"><img src=\"https://colab.research.google.com/assets/colab-badge.svg\" alt=\"Open In Colab\"/></a>"
      ]
    },
    {
      "cell_type": "markdown",
      "metadata": {
        "id": "avZvE1YHtjLV",
        "colab_type": "text"
      },
      "source": [
        "# 環境構築\n"
      ]
    },
    {
      "cell_type": "code",
      "metadata": {
        "id": "x76mwMxFtHnt",
        "colab_type": "code",
        "colab": {}
      },
      "source": [
        "import codecs\n",
        "import sys\n",
        "import os\n",
        "import chardet\n",
        "import os.path\n",
        "import pprint\n",
        "import re\n",
        "from os.path import join, splitext, split"
      ],
      "execution_count": 21,
      "outputs": []
    },
    {
      "cell_type": "code",
      "metadata": {
        "id": "2PBnVnjyqTSQ",
        "colab_type": "code",
        "colab": {
          "base_uri": "https://localhost:8080/",
          "height": 0
        },
        "outputId": "c5293dba-166d-47b6-c4f7-c9f047db0dc0"
      },
      "source": [
        "#ドライブをマウントする\n",
        "from google.colab import drive\n",
        "\n",
        "drive.mount('/content/drive')"
      ],
      "execution_count": 1,
      "outputs": [
        {
          "output_type": "stream",
          "text": [
            "Mounted at /content/drive\n"
          ],
          "name": "stdout"
        }
      ]
    },
    {
      "cell_type": "markdown",
      "metadata": {
        "id": "_09WPmEotwzW",
        "colab_type": "text"
      },
      "source": [
        "# ファイルを展開"
      ]
    },
    {
      "cell_type": "code",
      "metadata": {
        "id": "UrKEjBATu4gi",
        "colab_type": "code",
        "colab": {}
      },
      "source": [
        "outfname = \"drive/My Drive/Health/crowd_advice_scoring_2.tsv\"\n",
        "\n",
        "# outfp = open(outfname, \"a\")\n",
        "outfp = open(outfname, \"x\", encoding = \"utf_8\")\n"
      ],
      "execution_count": 18,
      "outputs": []
    },
    {
      "cell_type": "code",
      "metadata": {
        "id": "qDmjPu_LIRhN",
        "colab_type": "code",
        "colab": {}
      },
      "source": [
        "# outfp = open(outfname, \"a\")\n",
        "with open('drive/My Drive/Health/crowd_advice_scoring.tsv', 'r',encoding='utf-8') as f:\n",
        "    # ファイルを行数でlinesに代入\n",
        "    lines = f.readlines()\n",
        "    # 1行を取り出す\n",
        "    for line in lines:\n",
        "      test = line[:line.find(\"\\t\", -1)]\n",
        "      # outfp.write(normalization)\n",
        "      print(test)\n",
        "\n",
        "      # print(normalization)\n",
        "\n",
        "\n",
        "      "
      ],
      "execution_count": null,
      "outputs": []
    },
    {
      "cell_type": "markdown",
      "metadata": {
        "id": "WHPIvX-4TXUW",
        "colab_type": "text"
      },
      "source": [
        ""
      ]
    },
    {
      "cell_type": "code",
      "metadata": {
        "id": "CNkxUISVTXoA",
        "colab_type": "code",
        "colab": {
          "base_uri": "https://localhost:8080/",
          "height": 71
        },
        "outputId": "2fe4c8aa-5eb5-4e8e-c146-90e7c81f7023"
      },
      "source": [
        "print(normalization)"
      ],
      "execution_count": 12,
      "outputs": [
        {
          "output_type": "stream",
          "text": [
            "朝はパンとヨーグルト、コーヒー、昼はたらこスパゲッティー、##夜はスープカレーとサラダ、ハムエッグを食べました。##運動は午後から１５分程離れたところまで歩いて買い物に行きました。|朝食を抜いてしまうとやはり昼食の量が多くなってしまいますよね。\n",
            "\n"
          ],
          "name": "stdout"
        }
      ]
    },
    {
      "cell_type": "code",
      "metadata": {
        "id": "UpgAz4D9hYzf",
        "colab_type": "code",
        "colab": {
          "base_uri": "https://localhost:8080/",
          "height": 34
        },
        "outputId": "79fe9e09-75e7-4c6e-8559-5137d6ae8003"
      },
      "source": [
        "s = 'aaa@xxx.com bbb@yyy.com ccc@zzz.net'\n",
        "result = re.findall(r' ', s)\n",
        "\n",
        "print(result)"
      ],
      "execution_count": 22,
      "outputs": [
        {
          "output_type": "stream",
          "text": [
            "[' ', ' ']\n"
          ],
          "name": "stdout"
        }
      ]
    },
    {
      "cell_type": "code",
      "metadata": {
        "id": "jrpcJrj0h1ih",
        "colab_type": "code",
        "colab": {
          "base_uri": "https://localhost:8080/",
          "height": 68
        },
        "outputId": "9fdac86b-0e11-49ab-b542-2e32dae2f4bd"
      },
      "source": [
        "import re\n",
        "\n",
        "s = \"\"\"abfdnklanlnvldfanlfdsn\"\"\"\n",
        "\n",
        "for m in re.finditer('a', s):\n",
        "    print(m.groups())"
      ],
      "execution_count": 79,
      "outputs": [
        {
          "output_type": "stream",
          "text": [
            "()\n",
            "()\n",
            "()\n"
          ],
          "name": "stdout"
        }
      ]
    },
    {
      "cell_type": "code",
      "metadata": {
        "id": "k9Kb2hD1raUp",
        "colab_type": "code",
        "colab": {
          "base_uri": "https://localhost:8080/",
          "height": 68
        },
        "outputId": "dab2a79d-76e1-471f-d7fe-16799f8914da"
      },
      "source": [
        "pattern = r\"  \"\n",
        "text = \"ca  abs  aca  sca\"\n",
        "# パターンにマッチしたすべてをイテレータとして返す\n",
        "iterator = re.finditer(pattern ,text)\n",
        "for match in iterator:\n",
        "  # print(match.group())   # 1回目: ca      2回目: ca   \n",
        "  print(match.start())   # 1回目: 0       2回目: 6      \n",
        "  # print(match.end())     # 1回目: 2       2回目: 8      \n",
        "  # print(match.span())    # 1回目: (0, 2)  2回目: (6, 8)"
      ],
      "execution_count": 87,
      "outputs": [
        {
          "output_type": "stream",
          "text": [
            "2\n",
            "7\n",
            "12\n"
          ],
          "name": "stdout"
        }
      ]
    }
  ]
}