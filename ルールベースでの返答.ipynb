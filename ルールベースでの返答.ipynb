{
  "nbformat": 4,
  "nbformat_minor": 0,
  "metadata": {
    "colab": {
      "name": "ルールベースでの返答",
      "provenance": [],
      "collapsed_sections": [],
      "authorship_tag": "ABX9TyO+OJkpJaxCW1Mm9Zr9wg5q",
      "include_colab_link": true
    },
    "kernelspec": {
      "name": "python3",
      "display_name": "Python 3"
    }
  },
  "cells": [
    {
      "cell_type": "markdown",
      "metadata": {
        "id": "view-in-github",
        "colab_type": "text"
      },
      "source": [
        "<a href=\"https://colab.research.google.com/github/kake01/Dialogue/blob/master/%E3%83%AB%E3%83%BC%E3%83%AB%E3%83%99%E3%83%BC%E3%82%B9%E3%81%A7%E3%81%AE%E8%BF%94%E7%AD%94.ipynb\" target=\"_parent\"><img src=\"https://colab.research.google.com/assets/colab-badge.svg\" alt=\"Open In Colab\"/></a>"
      ]
    },
    {
      "cell_type": "markdown",
      "metadata": {
        "id": "avZvE1YHtjLV",
        "colab_type": "text"
      },
      "source": [
        "# 環境構築\n"
      ]
    },
    {
      "cell_type": "code",
      "metadata": {
        "id": "x76mwMxFtHnt",
        "colab_type": "code",
        "colab": {}
      },
      "source": [
        "import codecs\n",
        "import sys\n",
        "import os\n",
        "import chardet\n",
        "import os.path\n",
        "import pprint\n",
        "from os.path import join, splitext, split"
      ],
      "execution_count": 4,
      "outputs": []
    },
    {
      "cell_type": "code",
      "metadata": {
        "id": "2PBnVnjyqTSQ",
        "colab_type": "code",
        "colab": {}
      },
      "source": [
        "#ドライブをマウントする\n",
        "from google.colab import drive\n",
        "drive.mount('/content/drive')"
      ],
      "execution_count": null,
      "outputs": []
    },
    {
      "cell_type": "markdown",
      "metadata": {
        "id": "_09WPmEotwzW",
        "colab_type": "text"
      },
      "source": [
        "# ファイルを展開"
      ]
    },
    {
      "cell_type": "code",
      "metadata": {
        "id": "gxsMcR8nrbhU",
        "colab_type": "code",
        "colab": {}
      },
      "source": [
        "# file_data = open('drive/My Drive/Health/crowd_advice_scoring.tsv', 'r',encoding='utf-8')\n",
        "# lines = file_data.readlines()"
      ],
      "execution_count": 6,
      "outputs": []
    },
    {
      "cell_type": "code",
      "metadata": {
        "id": "UrKEjBATu4gi",
        "colab_type": "code",
        "colab": {}
      },
      "source": [
        "outdir =\"\"\n",
        "outfname = \"drive/My Drive/Health/crowd_advice_scoring_1.tsv\"\n",
        "outfp = open(outfname, \"a\")"
      ],
      "execution_count": 7,
      "outputs": []
    },
    {
      "cell_type": "code",
      "metadata": {
        "id": "S4vXQ1C_Hq3s",
        "colab_type": "code",
        "colab": {}
      },
      "source": [
        "with open('drive/My Drive/Health/crowd_advice_scoring.tsv', 'r',encoding='utf-8') as f:\n",
        "    # ファイルを行数でlinesに代入\n",
        "    lines = f.readlines()\n",
        "    # 1行を取り出す\n",
        "    for line in lines:\n",
        "      test = line[37:]\n",
        "      comment = test[:test.find(\"\t\")]\n",
        "      "
      ],
      "execution_count": 103,
      "outputs": []
    },
    {
      "cell_type": "code",
      "metadata": {
        "id": "qDmjPu_LIRhN",
        "colab_type": "code",
        "colab": {
          "base_uri": "https://localhost:8080/",
          "height": 34
        },
        "outputId": "08350b43-15c4-494a-bba8-d0a78bffd828"
      },
      "source": [
        "# print(test)\n",
        "# print(test1)\n",
        "print(comment)"
      ],
      "execution_count": 105,
      "outputs": [
        {
          "output_type": "stream",
          "text": [
            "朝はパンとヨーグルト、コーヒー、昼はたらこスパゲッティー、##夜はスープカレーとサラダ、ハムエッグを食べました。##運動は午後から１５分程離れたところまで歩いて買い物に行きました。\n"
          ],
          "name": "stdout"
        }
      ]
    }
  ]
}