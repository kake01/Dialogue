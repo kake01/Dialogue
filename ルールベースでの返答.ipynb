{
  "nbformat": 4,
  "nbformat_minor": 0,
  "metadata": {
    "colab": {
      "name": "ルールベースでの返答",
      "provenance": [],
      "collapsed_sections": [
        "avZvE1YHtjLV"
      ],
      "authorship_tag": "ABX9TyMGQoSFDIGSm/BHmBid8vId",
      "include_colab_link": true
    },
    "kernelspec": {
      "name": "python3",
      "display_name": "Python 3"
    }
  },
  "cells": [
    {
      "cell_type": "markdown",
      "metadata": {
        "id": "view-in-github",
        "colab_type": "text"
      },
      "source": [
        "<a href=\"https://colab.research.google.com/github/kake01/Dialogue/blob/master/%E3%83%AB%E3%83%BC%E3%83%AB%E3%83%99%E3%83%BC%E3%82%B9%E3%81%A7%E3%81%AE%E8%BF%94%E7%AD%94.ipynb\" target=\"_parent\"><img src=\"https://colab.research.google.com/assets/colab-badge.svg\" alt=\"Open In Colab\"/></a>"
      ]
    },
    {
      "cell_type": "markdown",
      "metadata": {
        "id": "avZvE1YHtjLV",
        "colab_type": "text"
      },
      "source": [
        "# 環境構築\n"
      ]
    },
    {
      "cell_type": "code",
      "metadata": {
        "id": "x76mwMxFtHnt",
        "colab_type": "code",
        "colab": {}
      },
      "source": [
        "import codecs\n",
        "import sys\n",
        "import os\n",
        "import chardet\n",
        "import os.path\n",
        "import pprint\n",
        "import re\n",
        "from os.path import join, splitext, split"
      ],
      "execution_count": 1,
      "outputs": []
    },
    {
      "cell_type": "code",
      "metadata": {
        "id": "2PBnVnjyqTSQ",
        "colab_type": "code",
        "colab": {
          "base_uri": "https://localhost:8080/",
          "height": 34
        },
        "outputId": "ee9f6c8c-f532-44a2-a04f-9141b7ac3e9a"
      },
      "source": [
        "#ドライブをマウントする\n",
        "from google.colab import drive\n",
        "\n",
        "drive.mount('/content/drive')"
      ],
      "execution_count": 2,
      "outputs": [
        {
          "output_type": "stream",
          "text": [
            "Mounted at /content/drive\n"
          ],
          "name": "stdout"
        }
      ]
    },
    {
      "cell_type": "markdown",
      "metadata": {
        "id": "_09WPmEotwzW",
        "colab_type": "text"
      },
      "source": [
        "# ファイルを展開"
      ]
    },
    {
      "cell_type": "code",
      "metadata": {
        "id": "qDmjPu_LIRhN",
        "colab_type": "code",
        "colab": {}
      },
      "source": [
        "outfp = open(outfname, \"w\")\n",
        "with open('drive/My Drive/Health/crowd_advice_scoring.tsv', 'r',encoding='utf-8') as f:\n",
        "  outfp = open(outfname, \"w\")\n",
        "  # ファイルを行数でlinesに代入\n",
        "  lines = f.readlines()\n",
        "  # 1行を取り出す\n",
        "  for line in lines:\n",
        "    iterator = re.finditer(pattern ,line)\n",
        "    for match in iterator:\n",
        "      # print(line[separate_num:match.start()])\n",
        "      temp.append(line[separate_num + 1:match.start()])\n",
        "      separate_num = match.start()\n",
        "    separate_num = 0\n",
        "    \n",
        "    data = temp[2] + \"|\" + temp[4] + \"\\n\"\n",
        "    temp = []\n",
        "    outfp.write(data)\n",
        "outfp.close()"
      ],
      "execution_count": 47,
      "outputs": []
    },
    {
      "cell_type": "markdown",
      "metadata": {
        "id": "jUSwdKdXBrXV",
        "colab_type": "text"
      },
      "source": [
        "# 前処理不要部分の削除"
      ]
    },
    {
      "cell_type": "code",
      "metadata": {
        "id": "UrKEjBATu4gi",
        "colab_type": "code",
        "colab": {}
      },
      "source": [
        "outfname = \"drive/My Drive/Health/DataSet.tsv\"\n",
        "\n",
        "outfp = open(outfname, \"w\")\n",
        "pattern = r\"\t\"\n",
        "separate_num = 0\n",
        "temp = []"
      ],
      "execution_count": 46,
      "outputs": []
    }
  ]
}